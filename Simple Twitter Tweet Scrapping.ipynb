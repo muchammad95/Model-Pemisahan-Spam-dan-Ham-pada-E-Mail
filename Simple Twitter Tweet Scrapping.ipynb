{
 "cells": [
  {
   "cell_type": "code",
   "execution_count": 27,
   "metadata": {},
   "outputs": [],
   "source": [
    "import tweepy\n",
    "import pandas as pd"
   ]
  },
  {
   "cell_type": "code",
   "execution_count": 28,
   "metadata": {},
   "outputs": [],
   "source": [
    "consumer_key = \"XXXXXXXXXXXXXX\"\n",
    "consumer_secret = \"XXXXXXXXXXXXXXXXXXXXXXXXXXXX\"\n",
    "access_token = \"XXXXXXXXXXXXXXXXXXXXXXXXXXXXXXXXXX\"\n",
    "access_token_secret = \"XXXXXXXXXXXXXXXXXXXXXXXXXXXXXXXXXxx\""
   ]
  },
  {
   "cell_type": "code",
   "execution_count": 29,
   "metadata": {},
   "outputs": [],
   "source": [
    "auth = tweepy.OAuthHandler(consumer_key, consumer_secret)\n",
    "auth.set_access_token(access_token, access_token_secret)\n",
    "api = tweepy.API(auth)"
   ]
  },
  {
   "cell_type": "code",
   "execution_count": 6,
   "metadata": {},
   "outputs": [],
   "source": [
    "nama = \"jokowi\"\n",
    "jumlahtweet = 100\n",
    "\n",
    "hasil = api.user_timeline(id=nama, count=jumlahtweet)\n",
    "\n",
    "for tweet in hasil:\n",
    "    print (tweet.text)"
   ]
  },
  {
   "cell_type": "code",
   "execution_count": 7,
   "metadata": {},
   "outputs": [
    {
     "data": {
      "text/plain": [
       "['Per hari ini, rata-rata kasus aktif Covid-19 di Indonesia 12,73 %, jauh lebih baik dari rata-rata dunia yang 27,97… https://t.co/77dtcP6dEx',\n",
       " 'Siapa yang akan divaksin lebih dahulu? Para tenaga kesehatan, TNI-Polri, lalu ASN untuk pelayanan publik, guru, dan… https://t.co/Xp0kbT0zG1',\n",
       " 'Semua vaksin yang akan digunakan dalam program vaksinasi Covid-19 di Indonesia harus terdaftar dan disetujui oleh O… https://t.co/8KsZyeOytE',\n",
       " 'Puskesmas Kec. Tanah Sareal di Kota Bogor menggelar simulasi simulasi vaksinasi Covid-19 pagi tadi. \\n\\nDengan simula… https://t.co/fR4Q8I8oqX',\n",
       " 'Jangan sampai perjuangan dan pengorbanan para dokter, perawat, tenaga medis, paramedis dalam menangani dan merawat… https://t.co/WvOJKBIlNc',\n",
       " 'Ketegasan aparat mendisiplinkan masyarakat untuk patuh kepada protokol kesehatan adalah suatu keharusan. \\n\\nAngka ka… https://t.co/g6wURgsMEv',\n",
       " 'Kepada Menteri Dalam Negeri saya minta mengingatkan, kalau perlu menegur, kepala daerah baik gubernur, bupati, maup… https://t.co/IYTNLird5P',\n",
       " 'Jangan hanya sekadar imbauan, tapi dengan pengawasan dan penegakan aturan di lapangan.\\n\\nKepercayaan masyarakat terh… https://t.co/rIp0C7cZpc',\n",
       " 'Keselamatan rakyat di tengah pandemi merupakan hukum tertinggi. Karena itu, penegakan disiplin protokol kesehatan h… https://t.co/OG7Gz74IdS',\n",
       " 'Pandemi datang melanda membuat begitu banyak momen yang lewat, tertunda, atau berlalu begitu saja. \\n\\nDi tengah tant… https://t.co/H3LaVCJxnp',\n",
       " 'Seharian ini, dari Istana Bogor, saya menghadiri KTT ke-37 ASEAN secara virtual dengan tuan rumah Vietnam. \\n\\nRangka… https://t.co/3lnWYWaq0w',\n",
       " 'Sebanyak 71 tokoh menerima anugerah tanda kehormatan Bintang Mahaputera dan Bintang Jasa tahun 2020, pagi ini. \\n\\nMe… https://t.co/G2I6EUwPwv',\n",
       " 'Mereka adalah Sultan Baabullah, Macmud Singgirei Rumagesan - Raja Sekar, Jenderal Pol. (Purn.) Raden Said Soekanto… https://t.co/T3vh4suxTZ',\n",
       " 'Pada momentum Hari Pahlawan ini, enam orang tokoh memperoleh anugerah gelar Pahlawan Nasional. \\n\\nMereka telah berja… https://t.co/g4Rg3qsg8h',\n",
       " 'Di bawah hamparan tanah Taman Makam Pahlawan Kalibata ini, bersemayam jasad para pahlawan, yang nama-namanya dikena… https://t.co/jHQG8dx50a',\n",
       " 'Hari ini, kita mengenang jasa-jasa para pahlawan yang telah gugur, sembari memancang tekad untuk meneruskan perjuan… https://t.co/O1tJc06tio',\n",
       " 'Sebagai catatan, Kementerian ATR/BPN telah berhasil mensertifikatkan 5,4 juta bidang lahan pada tahun 2017, sebanya… https://t.co/KuPdZaU3P0',\n",
       " 'Hari ini, dalam suasana pandemi, saya menyerahkan 1 juta lembar sertifikat hak atas tanah untuk rakyat di 31 provin… https://t.co/4H9zoc7jgQ',\n",
       " 'Look forward to work closely with you in strengthening Indonesia-US strategic partnership and pushing forward our c… https://t.co/YSzQt2U3h7',\n",
       " 'My warmest congratulations @JoeBiden and @KamalaHarris on your historic election. The huge turn out is a reflection… https://t.co/id3IwImGut',\n",
       " 'Pakai masker tanpa \"tapi\" ... https://t.co/U0RAVkAicU',\n",
       " 'Pandemi dengan segala dampaknya memberi banyak pelajaran kepada kita. \\n\\nSalah satunya, membangkitkan rasa krisis di… https://t.co/V8o0VuoWQ4',\n",
       " 'Pencalonan ini bukanlah untuk gagah-gagahan, melainkan salah satu cara meningkatkan citra dan martabat bangsa. \\n\\nKa… https://t.co/qPMOOoJJLD',\n",
       " 'Indonesia mengajukan diri jadi tuan rumah  Olimpiade 2032, dan akan bersaing dengan Australia, Jerman, Unifikasi Ko… https://t.co/zmWgOLjlby',\n",
       " 'Apresiasi yang tinggi bagi para penggerak kerukunan umat beragama yang dalam kesehariannya tak lelah merawat keruku… https://t.co/RDHMmCP3fS',\n",
       " 'Kerukunan antarumat beragama di negeri ini tidak muncul tiba-tiba, tapi adalah hasil dari kesadaran bersama bahwa p… https://t.co/HEJ2m2woyD',\n",
       " 'Pandemi Covid-19 ini harus jadi momentum memperbaiki ekosistem pendidikan nasional. \\n\\nPerguruan tinggi perlu merela… https://t.co/e2RIMtAeFO',\n",
       " 'Program perhutanan sosial untuk pemberdayaan ekonomi masyarakat telah berjalan selama 6 tahun. Dari target 12,7 jut… https://t.co/SGlxBLMYz2',\n",
       " 'Khusus kepada para penerima beasiswa yang akan belajar di luar negeri, saya ingatkan bahwa saudara-saudara adalah w… https://t.co/gWc1SANemc',\n",
       " 'Saya ingin mengucapkan selamat kepada para penerima beasiswa LPDP yang terpilih untuk belajar ke berbagai perguruan… https://t.co/6G4e8vDVpV',\n",
       " 'Pada kuartal keempat tahun 2020 ini saya meminta segenap jajaran kementerian dan lembaga untuk mempercepat realisas… https://t.co/sghxmVKdNN',\n",
       " 'Apa pun motif maskernya -- gambar batik atau lukisan kembang, bergaris atau polos -- semua bagus. Kenakan masker un… https://t.co/VUotrRfdPv',\n",
       " 'Mengaitkan agama dengan tindakan terorisme juga adalah sebuah kesalahan besar. Terorisme adalah terorisme, tidak ad… https://t.co/Jt5Rr8ZDM4',\n",
       " 'Pernyataan tersebut dapat memecah belah persatuan antarumat beragama, di saat dunia perlu bersatu menghadapi pandem… https://t.co/xOM6ZWNQ40',\n",
       " 'Indonesia mengecam keras terjadinya kekerasan yang terjadi di Paris dan Nice, Prancis yang telah memakan korban jiw… https://t.co/ul2pFnbK4I',\n",
       " 'Saya menerima kunjungan Menteri Luar Negeri Amerika Serikat Mike Pompeo di Istana Kepresidenan Bogor, pagi ini. \\n\\nK… https://t.co/qqv7kQOaQX',\n",
       " 'Kita memperingati maulid Nabi Muhammad SAW pada hari ini dengan berselawat kepadanya, seraya mengingat perjuangan b… https://t.co/jlDy67xUEz',\n",
       " 'Melalui telepon, saya menyampaikan terima kasih kepada Putra Mahkota Abu Dhabi Sheikh @MohamedBinZayed atas peresmi… https://t.co/JK0pbjqGtF',\n",
       " 'Ikrar para pemuda dari seluruh Nusantara di tahun 1928 itu masih bergema hari ini. \\n\\nSemangat, tekad, dan cita-cita… https://t.co/4SY8SntP1h',\n",
       " 'Di Stadion Simangaronsang, Kab. Humbang Hasundutan, Sumatra Utara hari ini, saya menyerahkan 22.007 sertifikat hak… https://t.co/c1k1vQf8eC',\n",
       " 'Lumbung pangan ini nantinya mencakup lahan seluas 30.000 ha yang tersebar di sejumlah kabupaten di Sumatra Utara, t… https://t.co/nPvfjBdEs6',\n",
       " 'Inilah salah satu lokasi pembangunan kawasan lumbung pangan di Sumatra Utara. Lokasinya di Kab. Humbang Hasundutan,… https://t.co/6ieOF8a1hr',\n",
       " 'Horas manogot. Pagi ini saya menuju Provinsi Sumatra Utara untuk kunjungan sehari. \\n\\nBersama rombongan terbatas, sa… https://t.co/h7t2ICPdPH',\n",
       " 'Dalam pelaksanaannya nanti, vaksin tersebut akan didistribusikan melalui dua skema, yakni skema gratis dan mandiri.… https://t.co/WaE7ncRuQV',\n",
       " 'Pemerintah berupaya bergerak cepat untuk penanganan pandemi Covid-19. Meski demikian, pemerintah juga memperhatikan… https://t.co/WtK18RlpW2',\n",
       " 'Hari ini saya melantik 12 duta besar RI yang akan bertugas di negara-negara sahabat yaitu Senegal, Bosnia dan Herze… https://t.co/W1eWF4LKXB',\n",
       " 'Saya memahami kesulitan para pelaku usaha, terutama UMKM di tengah pandemi ini. Untuk itu, pemerintah meluncurkan b… https://t.co/DBm3bgEeCb',\n",
       " 'Pandemi ini menyasar semua. Tak mengenal bangsa, tak membedakan pangkat dan jenis pekerjaan, tak memilah tempat. Di… https://t.co/berLNu6Jtc',\n",
       " 'Setiap kita bisa jadi pahlawan. Setiap kita punya peran memutus rantai pandemi. https://t.co/hgK2o8yVxQ',\n",
       " 'Ikatan Dokter Indonesia menapak usia 70 tahun, yang kita peringati sebagai Hari Dokter Nasional, hari ini. \\n\\nSejak… https://t.co/ZsxkrKFYcM',\n",
       " 'Dalam perjalanan sejarah bangsa Indonesia, para dokter selalu mewarnai setiap zaman. Kini, mereka berada di garis t… https://t.co/rSUFQ20He7',\n",
       " 'Jembatan Teluk Kendari dibangun selama lima tahun lamanya. Kini, jembatan yang terentang sepanjang 1,34 km di atas… https://t.co/8IoTwZrNro',\n",
       " 'Industri turunan dari batu bara ini berupa pembuatan briket batu bara, gasifikasi batu bara, dll. Industri turunan… https://t.co/CiIJxi5sGr',\n",
       " 'Ekspor bahan mentah menjadi barang jadi atau setengah jadi (hilirisasi industri) sebagai strategi industri pertamba… https://t.co/P8nvQ3SxAv',\n",
       " 'Saya juga meminta pemerintah daerah mempercepat realisasi APBD terutama belanja bantuan sosial dan belanja modal, d… https://t.co/IawUgHc4Gw',\n",
       " 'Untuk menjaga daya beli masyarakat, pemerintah telah menyalurkan berbagai skema program perlindungan sosial, dari P… https://t.co/Ae6IwJ6dYb',\n",
       " 'Jembatan sepanjang 1,34 kilometer kini terentang di atas Teluk Kendari, Sulawesi Tenggara dan menjadi ikon baru Kot… https://t.co/NWJyqK0RPy',\n",
       " 'Kebutuhan gula di Indonesia 5,8 juta ton per tahun. Dari jumlah itu, baru 2,1 juta ton yang diproduksi di dalam neg… https://t.co/AmdFH1Kkc9',\n",
       " 'Sejak tiga tahun lalu, PT Prima Alam Gemilang berinvestasi perkebunan tebu dan pabrik gula di Kab. Bombana, Sulawes… https://t.co/s6HKtZZhex',\n",
       " 'Sejarah mencatat peran besar para ulama, kiai, dan santri dalam menjaga NKRI, memandu ke jalan kebaikan dan jalan k… https://t.co/tBvf7R6int',\n",
       " 'Selamat pagi. Bersama rombongan terbatas pagi ini, saya bertolak menuju Provinsi Sulawesi Tenggara. \\n\\nDi sana, saya… https://t.co/2r2d9CljBW',\n",
       " 'Pagi ini, saya menerima surat kepercayaan tujuh duta besar luar biasa dan berkuasa penuh dari negara-negara sahabat… https://t.co/4b5zC1TmWr',\n",
       " 'Selain itu, spirit kerja sama yang inklusif perlu dimajukan dalam kerja sama Indo-Pasifik. \\n\\nSaya menggarisbawahi h… https://t.co/ptFXQmB8LI',\n",
       " 'Jepang mitra penting Indonesia dalam mitigasi pandemi. Kita ingat evakuasi 69 WNI ABK Diamond Princess di Yokohama.… https://t.co/8naoRJiIq9',\n",
       " 'Di tengah dunia yang diwarnai ketidakpastian, kunjungan PM Jepang Bapak Yoshihide Suga ke Indonesia menunjukkan bah… https://t.co/0NkqHvwhg5',\n",
       " 'Seusai penyambutan kenegaraan, saya dan PM Yoshihide  melakukan pertemuan tête-à-tête, dilanjutkan pertemuan bilate… https://t.co/HEksF6gTFX',\n",
       " 'Hujan mengguyur Bogor sore tadi ketika Perdana Menteri Jepang Bapak Yoshihide Suga dan Ibu Mariko Suga tiba di Ista… https://t.co/gHXxIm7BBq',\n",
       " 'Selamat datang Perdana Menteri Jepang Bapak Yoshihide Suga beserta Ibu Mariko Suga di Indonesia. https://t.co/micMasnsUT',\n",
       " 'Seruas jalan di Abu Dhabi, UEA, diresmikan sebagai Presiden Joko Widodo Street oleh Sheikh Khalid bin Mohammed bin… https://t.co/kubXhlozbK',\n",
       " 'Warmest congratulations to Prime Minister Jacinda Ardern @jacindaardern of New Zealand for your victorious re-elect… https://t.co/BYVmrQR8jJ',\n",
       " 'Rencana pemberian vaksin Covid-19 membutuhkan persiapan yang detail dan hati-hati. Vaksinasi ini tidak akan dilaksa… https://t.co/SYImmF6dug',\n",
       " 'Kita punya pengalaman, selepas libur panjang terjadi lonjakan kasus positif Covid-19 yang agak tinggi. \\n\\nKarena itu… https://t.co/0MMSlnhRDQ',\n",
       " 'Di foto ini, Ibu Yuni, pemilik usaha roti rumah tangga, sedang di jalan hendak berbelanja bahan baku. Sesekali ia j… https://t.co/fXB1DaIqvO',\n",
       " 'Selama vaksin dan obatnya belum ada, perisai paling ampuh untuk menghindar dari virus Covid-19 adalah mengenakan ma… https://t.co/UOqYjk5OgJ',\n",
       " '\"Undang-Undang Cipta Kerja adalah upaya reformasi besar untuk menjadikan Indonesia lebih kompetitif.\" Ini kata Bank… https://t.co/7WTkTH00MU',\n",
       " 'Indonesia menjadi tuan rumah penyelenggaraan Global Platform for Disaster Risk Reduction (GPDRR) tahun 2022. Utusan… https://t.co/tC47bpfJJl',\n",
       " 'Fenomena anomali iklim La Nina diprediksi menyebabkan peningkatan akumulasi curah hujan bulanan di Indonesia 20-40%… https://t.co/IMSr3Z6qto',\n",
       " 'Kab/kota tersebut adalah Kota Ambon, Jakarta Utara, Kabupaten Bogor, Kota Depok, Kota Bekasi, Kota Jayapura, Kota P… https://t.co/EPcMqgdKEr',\n",
       " 'Peningkatan penanganan pandemi Covid-19 di Jawa Timur dan Sulawesi Selatan dapat dicontoh provinsi lain. \\n\\nSelain i… https://t.co/5WjMwJLEOt',\n",
       " 'Tugas besar kita adalah menekan angka kasus positif dengan terus menyampaikan pentingnya kedisiplinan terhadap prot… https://t.co/9R7bRBqhcs',\n",
       " 'Per 11 Oktober kemarin, rata-rata kasus aktif Covid-19 di Indonesia saat ini sebesar 19,97%, kesembuhan 76,48%, dan… https://t.co/BlBk7aHWJw',\n",
       " 'Setiap tahun, ada jutaan penduduk usia kerja baru. UU Cipta Kerja antara lain bertujuan untuk menyediakan lapangan… https://t.co/OnPB7u1vqB',\n",
       " 'Di tengah pandemi ini, sektor pertanian kita mampu tumbuh 16,24 % dan jadi penyumbang tertinggi bagi pertumbuhan ek… https://t.co/b5K2JtHlZy',\n",
       " 'Peringatan ke-75 Hari Tentara Nasional Indonesia (TNI) tahun ini digelar secara sederhana. \\n\\nSaya memimpin upacara… https://t.co/uaA2710T5z',\n",
       " 'Di tengah pandemi ini, para prajurit TNI tetap menjadi tentara profesional dan kebanggaan rakyat. TNI membantu mend… https://t.co/OeLyGPUe0n',\n",
       " 'Pandemi menghentak dunia dan banyak kegiatan terpaksa ditunda atau dikurangi. Namun, satu yang harus tetap berjalan… https://t.co/68XjuSC2Go',\n",
       " 'Tujuh bulan sudah kita menghadapi pandemi ini. Begitu banyak tantangan, namun kita tidak berpangku tangan. Banyak y… https://t.co/RlNsm48B0Y',\n",
       " 'Sifira Kristingrum, perawat di RSAL Dr. Ramelan, Surabaya, masih mengenakan gaun kerja ketika saya menghubunginya m… https://t.co/Y04Arvf2Hr',\n",
       " 'Pandemi bukanlah penghalang untuk memperingati Hari Batik Nasional yang jatuh pada setiap tanggal 2 Oktober. Warisa… https://t.co/4Fi9vbNvkI',\n",
       " 'Saya menyerahkan bantuan modal kerja kepada 60 pelaku usaha mikro dan kecil dari Labuan Bajo, sore tadi, dengan har… https://t.co/Pj9RNiPMMM',\n",
       " 'Hari ini saya ke Labuan Bajo di NTT, meninjau pembangunan terminal pelabuhan multifungsi untuk aktivitas bongkar mu… https://t.co/1FfvY6KOPJ',\n",
       " 'Seusai memimpin upacara Hari Kesaktian Pancasila pagi ini, saya bertolak menuju NTT untuk kunjungan sehari. \\n\\nDi sa… https://t.co/bZ7JeQKvqU',\n",
       " 'Upacara peringatan Hari Kesaktian Pancasila pagi ini digelar di Monumen Pancasila Sakti, Lubang Buaya, Jakarta Timu… https://t.co/4EBMMZgCas',\n",
       " 'Tantangan dan ujian dalam berbagai bentuk pernah dihadapi bangsa ini, dari zaman kemerdekaan, masa pembangunan, era… https://t.co/F20kxAqdQR',\n",
       " 'Sejumlah pelaku usaha mikro dan kecil yang terdampak pandemi dari Jakarta dan Kepulauan Seribu menerima secara lang… https://t.co/k3rsY7jBt7',\n",
       " 'I am deeply saddened to learn of the passing of His Majesty Sheikh Sabah al-Ahmad al-Sabah, Emir of the State of Kuwait',\n",
       " 'Dulu, dari Manado ke Bitung, ditempuh dalam 1,5 jam. Dalam waktu dekat, melalui jalan tol 40 km, perjalanan antara… https://t.co/CW9Kxv7lMW',\n",
       " 'Di tengah upaya dan kerja keras kita semua menangani masalah kesehatan di masa pandemi Covid-19 ini, pemerintah jug… https://t.co/lJProd82Uj',\n",
       " 'Saya bersama 63 pelaku usaha mikro dan kecil yang menerima bantuan modal kerja secara langsung, sore tadi, di Istan… https://t.co/BpA8dN15AV',\n",
       " 'Apabila selesai dalam waktu dekat, jalan tol Manado-Bitung sepanjang 40 km akan menjadi tol terpanjang di Pulau Sul… https://t.co/kn09wALToa']"
      ]
     },
     "execution_count": 7,
     "metadata": {},
     "output_type": "execute_result"
    }
   ],
   "source": [
    "result"
   ]
  },
  {
   "cell_type": "code",
   "execution_count": 13,
   "metadata": {},
   "outputs": [
    {
     "name": "stdout",
     "output_type": "stream",
     "text": [
      "['Seharian', 'ini,', 'dari', 'Istana', 'Bogor,', 'saya', 'menghadiri', 'KTT', 'ke-37', 'ASEAN', 'secara', 'virtual', 'dengan', 'tuan', 'rumah', 'Vietnam.', 'Rangka…', 'https://t.co/3lnWYWaq0w']\n",
      "['Sebanyak', '71', 'tokoh', 'menerima', 'anugerah', 'tanda', 'kehormatan', 'Bintang', 'Mahaputera', 'dan', 'Bintang', 'Jasa', 'tahun', '2020,', 'pagi', 'ini.', 'Me…', 'https://t.co/G2I6EUwPwv']\n",
      "['Mereka', 'adalah', 'Sultan', 'Baabullah,', 'Macmud', 'Singgirei', 'Rumagesan', '-', 'Raja', 'Sekar,', 'Jenderal', 'Pol.', '(Purn.)', 'Raden', 'Said', 'Soekanto…', 'https://t.co/T3vh4suxTZ']\n",
      "['Pada', 'momentum', 'Hari', 'Pahlawan', 'ini,', 'enam', 'orang', 'tokoh', 'memperoleh', 'anugerah', 'gelar', 'Pahlawan', 'Nasional.', 'Mereka', 'telah', 'berja…', 'https://t.co/g4Rg3qsg8h']\n",
      "['Di', 'bawah', 'hamparan', 'tanah', 'Taman', 'Makam', 'Pahlawan', 'Kalibata', 'ini,', 'bersemayam', 'jasad', 'para', 'pahlawan,', 'yang', 'nama-namanya', 'dikena…', 'https://t.co/jHQG8dx50a']\n",
      "['Hari', 'ini,', 'kita', 'mengenang', 'jasa-jasa', 'para', 'pahlawan', 'yang', 'telah', 'gugur,', 'sembari', 'memancang', 'tekad', 'untuk', 'meneruskan', 'perjuan…', 'https://t.co/O1tJc06tio']\n",
      "['Sebagai', 'catatan,', 'Kementerian', 'ATR/BPN', 'telah', 'berhasil', 'mensertifikatkan', '5,4', 'juta', 'bidang', 'lahan', 'pada', 'tahun', '2017,', 'sebanya…', 'https://t.co/KuPdZaU3P0']\n",
      "['Hari', 'ini,', 'dalam', 'suasana', 'pandemi,', 'saya', 'menyerahkan', '1', 'juta', 'lembar', 'sertifikat', 'hak', 'atas', 'tanah', 'untuk', 'rakyat', 'di', '31', 'provin…', 'https://t.co/4H9zoc7jgQ']\n",
      "['Look', 'forward', 'to', 'work', 'closely', 'with', 'you', 'in', 'strengthening', 'Indonesia-US', 'strategic', 'partnership', 'and', 'pushing', 'forward', 'our', 'c…', 'https://t.co/YSzQt2U3h7']\n",
      "['My', 'warmest', 'congratulations', '@JoeBiden', 'and', '@KamalaHarris', 'on', 'your', 'historic', 'election.', 'The', 'huge', 'turn', 'out', 'is', 'a', 'reflection…', 'https://t.co/id3IwImGut']\n",
      "['Pakai', 'masker', 'tanpa', '\"tapi\"', '...', 'https://t.co/U0RAVkAicU']\n",
      "['Pandemi', 'dengan', 'segala', 'dampaknya', 'memberi', 'banyak', 'pelajaran', 'kepada', 'kita.', 'Salah', 'satunya,', 'membangkitkan', 'rasa', 'krisis', 'di…', 'https://t.co/V8o0VuoWQ4']\n",
      "['Pencalonan', 'ini', 'bukanlah', 'untuk', 'gagah-gagahan,', 'melainkan', 'salah', 'satu', 'cara', 'meningkatkan', 'citra', 'dan', 'martabat', 'bangsa.', 'Ka…', 'https://t.co/qPMOOoJJLD']\n",
      "['Indonesia', 'mengajukan', 'diri', 'jadi', 'tuan', 'rumah', 'Olimpiade', '2032,', 'dan', 'akan', 'bersaing', 'dengan', 'Australia,', 'Jerman,', 'Unifikasi', 'Ko…', 'https://t.co/zmWgOLjlby']\n",
      "['Apresiasi', 'yang', 'tinggi', 'bagi', 'para', 'penggerak', 'kerukunan', 'umat', 'beragama', 'yang', 'dalam', 'kesehariannya', 'tak', 'lelah', 'merawat', 'keruku…', 'https://t.co/RDHMmCP3fS']\n",
      "['Kerukunan', 'antarumat', 'beragama', 'di', 'negeri', 'ini', 'tidak', 'muncul', 'tiba-tiba,', 'tapi', 'adalah', 'hasil', 'dari', 'kesadaran', 'bersama', 'bahwa', 'p…', 'https://t.co/HEJ2m2woyD']\n",
      "['Pandemi', 'Covid-19', 'ini', 'harus', 'jadi', 'momentum', 'memperbaiki', 'ekosistem', 'pendidikan', 'nasional.', 'Perguruan', 'tinggi', 'perlu', 'merela…', 'https://t.co/e2RIMtAeFO']\n",
      "['Program', 'perhutanan', 'sosial', 'untuk', 'pemberdayaan', 'ekonomi', 'masyarakat', 'telah', 'berjalan', 'selama', '6', 'tahun.', 'Dari', 'target', '12,7', 'jut…', 'https://t.co/SGlxBLMYz2']\n",
      "['Khusus', 'kepada', 'para', 'penerima', 'beasiswa', 'yang', 'akan', 'belajar', 'di', 'luar', 'negeri,', 'saya', 'ingatkan', 'bahwa', 'saudara-saudara', 'adalah', 'w…', 'https://t.co/gWc1SANemc']\n",
      "['Saya', 'ingin', 'mengucapkan', 'selamat', 'kepada', 'para', 'penerima', 'beasiswa', 'LPDP', 'yang', 'terpilih', 'untuk', 'belajar', 'ke', 'berbagai', 'perguruan…', 'https://t.co/6G4e8vDVpV']\n",
      "['Pada', 'kuartal', 'keempat', 'tahun', '2020', 'ini', 'saya', 'meminta', 'segenap', 'jajaran', 'kementerian', 'dan', 'lembaga', 'untuk', 'mempercepat', 'realisas…', 'https://t.co/sghxmVKdNN']\n",
      "['Apa', 'pun', 'motif', 'maskernya', '--', 'gambar', 'batik', 'atau', 'lukisan', 'kembang,', 'bergaris', 'atau', 'polos', '--', 'semua', 'bagus.', 'Kenakan', 'masker', 'un…', 'https://t.co/VUotrRfdPv']\n",
      "['Mengaitkan', 'agama', 'dengan', 'tindakan', 'terorisme', 'juga', 'adalah', 'sebuah', 'kesalahan', 'besar.', 'Terorisme', 'adalah', 'terorisme,', 'tidak', 'ad…', 'https://t.co/Jt5Rr8ZDM4']\n",
      "['Pernyataan', 'tersebut', 'dapat', 'memecah', 'belah', 'persatuan', 'antarumat', 'beragama,', 'di', 'saat', 'dunia', 'perlu', 'bersatu', 'menghadapi', 'pandem…', 'https://t.co/xOM6ZWNQ40']\n",
      "['Indonesia', 'mengecam', 'keras', 'terjadinya', 'kekerasan', 'yang', 'terjadi', 'di', 'Paris', 'dan', 'Nice,', 'Prancis', 'yang', 'telah', 'memakan', 'korban', 'jiw…', 'https://t.co/ul2pFnbK4I']\n",
      "['Saya', 'menerima', 'kunjungan', 'Menteri', 'Luar', 'Negeri', 'Amerika', 'Serikat', 'Mike', 'Pompeo', 'di', 'Istana', 'Kepresidenan', 'Bogor,', 'pagi', 'ini.', 'K…', 'https://t.co/qqv7kQOaQX']\n",
      "['Kita', 'memperingati', 'maulid', 'Nabi', 'Muhammad', 'SAW', 'pada', 'hari', 'ini', 'dengan', 'berselawat', 'kepadanya,', 'seraya', 'mengingat', 'perjuangan', 'b…', 'https://t.co/jlDy67xUEz']\n",
      "['Melalui', 'telepon,', 'saya', 'menyampaikan', 'terima', 'kasih', 'kepada', 'Putra', 'Mahkota', 'Abu', 'Dhabi', 'Sheikh', '@MohamedBinZayed', 'atas', 'peresmi…', 'https://t.co/JK0pbjqGtF']\n",
      "['Ikrar', 'para', 'pemuda', 'dari', 'seluruh', 'Nusantara', 'di', 'tahun', '1928', 'itu', 'masih', 'bergema', 'hari', 'ini.', 'Semangat,', 'tekad,', 'dan', 'cita-cita…', 'https://t.co/4SY8SntP1h']\n",
      "['Di', 'Stadion', 'Simangaronsang,', 'Kab.', 'Humbang', 'Hasundutan,', 'Sumatra', 'Utara', 'hari', 'ini,', 'saya', 'menyerahkan', '22.007', 'sertifikat', 'hak…', 'https://t.co/c1k1vQf8eC']\n",
      "['Lumbung', 'pangan', 'ini', 'nantinya', 'mencakup', 'lahan', 'seluas', '30.000', 'ha', 'yang', 'tersebar', 'di', 'sejumlah', 'kabupaten', 'di', 'Sumatra', 'Utara,', 't…', 'https://t.co/nPvfjBdEs6']\n",
      "['Inilah', 'salah', 'satu', 'lokasi', 'pembangunan', 'kawasan', 'lumbung', 'pangan', 'di', 'Sumatra', 'Utara.', 'Lokasinya', 'di', 'Kab.', 'Humbang', 'Hasundutan,…', 'https://t.co/6ieOF8a1hr']\n",
      "['Horas', 'manogot.', 'Pagi', 'ini', 'saya', 'menuju', 'Provinsi', 'Sumatra', 'Utara', 'untuk', 'kunjungan', 'sehari.', 'Bersama', 'rombongan', 'terbatas,', 'sa…', 'https://t.co/h7t2ICPdPH']\n",
      "['Dalam', 'pelaksanaannya', 'nanti,', 'vaksin', 'tersebut', 'akan', 'didistribusikan', 'melalui', 'dua', 'skema,', 'yakni', 'skema', 'gratis', 'dan', 'mandiri.…', 'https://t.co/WaE7ncRuQV']\n",
      "['Pemerintah', 'berupaya', 'bergerak', 'cepat', 'untuk', 'penanganan', 'pandemi', 'Covid-19.', 'Meski', 'demikian,', 'pemerintah', 'juga', 'memperhatikan…', 'https://t.co/WtK18RlpW2']\n",
      "['Hari', 'ini', 'saya', 'melantik', '12', 'duta', 'besar', 'RI', 'yang', 'akan', 'bertugas', 'di', 'negara-negara', 'sahabat', 'yaitu', 'Senegal,', 'Bosnia', 'dan', 'Herze…', 'https://t.co/W1eWF4LKXB']\n",
      "['Saya', 'memahami', 'kesulitan', 'para', 'pelaku', 'usaha,', 'terutama', 'UMKM', 'di', 'tengah', 'pandemi', 'ini.', 'Untuk', 'itu,', 'pemerintah', 'meluncurkan', 'b…', 'https://t.co/DBm3bgEeCb']\n",
      "['Pandemi', 'ini', 'menyasar', 'semua.', 'Tak', 'mengenal', 'bangsa,', 'tak', 'membedakan', 'pangkat', 'dan', 'jenis', 'pekerjaan,', 'tak', 'memilah', 'tempat.', 'Di…', 'https://t.co/berLNu6Jtc']\n",
      "['Setiap', 'kita', 'bisa', 'jadi', 'pahlawan.', 'Setiap', 'kita', 'punya', 'peran', 'memutus', 'rantai', 'pandemi.', 'https://t.co/hgK2o8yVxQ']\n",
      "['Ikatan', 'Dokter', 'Indonesia', 'menapak', 'usia', '70', 'tahun,', 'yang', 'kita', 'peringati', 'sebagai', 'Hari', 'Dokter', 'Nasional,', 'hari', 'ini.', 'Sejak…', 'https://t.co/ZsxkrKFYcM']\n",
      "['Dalam', 'perjalanan', 'sejarah', 'bangsa', 'Indonesia,', 'para', 'dokter', 'selalu', 'mewarnai', 'setiap', 'zaman.', 'Kini,', 'mereka', 'berada', 'di', 'garis', 't…', 'https://t.co/rSUFQ20He7']\n",
      "['Jembatan', 'Teluk', 'Kendari', 'dibangun', 'selama', 'lima', 'tahun', 'lamanya.', 'Kini,', 'jembatan', 'yang', 'terentang', 'sepanjang', '1,34', 'km', 'di', 'atas…', 'https://t.co/8IoTwZrNro']\n",
      "['Industri', 'turunan', 'dari', 'batu', 'bara', 'ini', 'berupa', 'pembuatan', 'briket', 'batu', 'bara,', 'gasifikasi', 'batu', 'bara,', 'dll.', 'Industri', 'turunan…', 'https://t.co/CiIJxi5sGr']\n",
      "['Ekspor', 'bahan', 'mentah', 'menjadi', 'barang', 'jadi', 'atau', 'setengah', 'jadi', '(hilirisasi', 'industri)', 'sebagai', 'strategi', 'industri', 'pertamba…', 'https://t.co/P8nvQ3SxAv']\n",
      "['Saya', 'juga', 'meminta', 'pemerintah', 'daerah', 'mempercepat', 'realisasi', 'APBD', 'terutama', 'belanja', 'bantuan', 'sosial', 'dan', 'belanja', 'modal,', 'd…', 'https://t.co/IawUgHc4Gw']\n",
      "['Untuk', 'menjaga', 'daya', 'beli', 'masyarakat,', 'pemerintah', 'telah', 'menyalurkan', 'berbagai', 'skema', 'program', 'perlindungan', 'sosial,', 'dari', 'P…', 'https://t.co/Ae6IwJ6dYb']\n",
      "['Jembatan', 'sepanjang', '1,34', 'kilometer', 'kini', 'terentang', 'di', 'atas', 'Teluk', 'Kendari,', 'Sulawesi', 'Tenggara', 'dan', 'menjadi', 'ikon', 'baru', 'Kot…', 'https://t.co/NWJyqK0RPy']\n",
      "['Kebutuhan', 'gula', 'di', 'Indonesia', '5,8', 'juta', 'ton', 'per', 'tahun.', 'Dari', 'jumlah', 'itu,', 'baru', '2,1', 'juta', 'ton', 'yang', 'diproduksi', 'di', 'dalam', 'neg…', 'https://t.co/AmdFH1Kkc9']\n",
      "['Sejak', 'tiga', 'tahun', 'lalu,', 'PT', 'Prima', 'Alam', 'Gemilang', 'berinvestasi', 'perkebunan', 'tebu', 'dan', 'pabrik', 'gula', 'di', 'Kab.', 'Bombana,', 'Sulawes…', 'https://t.co/s6HKtZZhex']\n",
      "['Sejarah', 'mencatat', 'peran', 'besar', 'para', 'ulama,', 'kiai,', 'dan', 'santri', 'dalam', 'menjaga', 'NKRI,', 'memandu', 'ke', 'jalan', 'kebaikan', 'dan', 'jalan', 'k…', 'https://t.co/tBvf7R6int']\n",
      "['Selamat', 'pagi.', 'Bersama', 'rombongan', 'terbatas', 'pagi', 'ini,', 'saya', 'bertolak', 'menuju', 'Provinsi', 'Sulawesi', 'Tenggara.', 'Di', 'sana,', 'saya…', 'https://t.co/2r2d9CljBW']\n",
      "['Pagi', 'ini,', 'saya', 'menerima', 'surat', 'kepercayaan', 'tujuh', 'duta', 'besar', 'luar', 'biasa', 'dan', 'berkuasa', 'penuh', 'dari', 'negara-negara', 'sahabat…', 'https://t.co/4b5zC1TmWr']\n",
      "['Selain', 'itu,', 'spirit', 'kerja', 'sama', 'yang', 'inklusif', 'perlu', 'dimajukan', 'dalam', 'kerja', 'sama', 'Indo-Pasifik.', 'Saya', 'menggarisbawahi', 'h…', 'https://t.co/ptFXQmB8LI']\n",
      "['Jepang', 'mitra', 'penting', 'Indonesia', 'dalam', 'mitigasi', 'pandemi.', 'Kita', 'ingat', 'evakuasi', '69', 'WNI', 'ABK', 'Diamond', 'Princess', 'di', 'Yokohama.…', 'https://t.co/8naoRJiIq9']\n",
      "['Di', 'tengah', 'dunia', 'yang', 'diwarnai', 'ketidakpastian,', 'kunjungan', 'PM', 'Jepang', 'Bapak', 'Yoshihide', 'Suga', 'ke', 'Indonesia', 'menunjukkan', 'bah…', 'https://t.co/0NkqHvwhg5']\n",
      "['Seusai', 'penyambutan', 'kenegaraan,', 'saya', 'dan', 'PM', 'Yoshihide', 'melakukan', 'pertemuan', 'tête-à-tête,', 'dilanjutkan', 'pertemuan', 'bilate…', 'https://t.co/HEksF6gTFX']\n",
      "['Hujan', 'mengguyur', 'Bogor', 'sore', 'tadi', 'ketika', 'Perdana', 'Menteri', 'Jepang', 'Bapak', 'Yoshihide', 'Suga', 'dan', 'Ibu', 'Mariko', 'Suga', 'tiba', 'di', 'Ista…', 'https://t.co/gHXxIm7BBq']\n",
      "['Selamat', 'datang', 'Perdana', 'Menteri', 'Jepang', 'Bapak', 'Yoshihide', 'Suga', 'beserta', 'Ibu', 'Mariko', 'Suga', 'di', 'Indonesia.', 'https://t.co/micMasnsUT']\n",
      "['Seruas', 'jalan', 'di', 'Abu', 'Dhabi,', 'UEA,', 'diresmikan', 'sebagai', 'Presiden', 'Joko', 'Widodo', 'Street', 'oleh', 'Sheikh', 'Khalid', 'bin', 'Mohammed', 'bin…', 'https://t.co/kubXhlozbK']\n",
      "['Warmest', 'congratulations', 'to', 'Prime', 'Minister', 'Jacinda', 'Ardern', '@jacindaardern', 'of', 'New', 'Zealand', 'for', 'your', 'victorious', 're-elect…', 'https://t.co/BYVmrQR8jJ']\n",
      "['Rencana', 'pemberian', 'vaksin', 'Covid-19', 'membutuhkan', 'persiapan', 'yang', 'detail', 'dan', 'hati-hati.', 'Vaksinasi', 'ini', 'tidak', 'akan', 'dilaksa…', 'https://t.co/SYImmF6dug']\n",
      "['Kita', 'punya', 'pengalaman,', 'selepas', 'libur', 'panjang', 'terjadi', 'lonjakan', 'kasus', 'positif', 'Covid-19', 'yang', 'agak', 'tinggi.', 'Karena', 'itu…', 'https://t.co/0MMSlnhRDQ']\n",
      "['Di', 'foto', 'ini,', 'Ibu', 'Yuni,', 'pemilik', 'usaha', 'roti', 'rumah', 'tangga,', 'sedang', 'di', 'jalan', 'hendak', 'berbelanja', 'bahan', 'baku.', 'Sesekali', 'ia', 'j…', 'https://t.co/fXB1DaIqvO']\n",
      "['Selama', 'vaksin', 'dan', 'obatnya', 'belum', 'ada,', 'perisai', 'paling', 'ampuh', 'untuk', 'menghindar', 'dari', 'virus', 'Covid-19', 'adalah', 'mengenakan', 'ma…', 'https://t.co/UOqYjk5OgJ']\n",
      "['\"Undang-Undang', 'Cipta', 'Kerja', 'adalah', 'upaya', 'reformasi', 'besar', 'untuk', 'menjadikan', 'Indonesia', 'lebih', 'kompetitif.\"', 'Ini', 'kata', 'Bank…', 'https://t.co/7WTkTH00MU']\n",
      "['Indonesia', 'menjadi', 'tuan', 'rumah', 'penyelenggaraan', 'Global', 'Platform', 'for', 'Disaster', 'Risk', 'Reduction', '(GPDRR)', 'tahun', '2022.', 'Utusan…', 'https://t.co/tC47bpfJJl']\n",
      "['Fenomena', 'anomali', 'iklim', 'La', 'Nina', 'diprediksi', 'menyebabkan', 'peningkatan', 'akumulasi', 'curah', 'hujan', 'bulanan', 'di', 'Indonesia', '20-40%…', 'https://t.co/IMSr3Z6qto']\n",
      "['Kab/kota', 'tersebut', 'adalah', 'Kota', 'Ambon,', 'Jakarta', 'Utara,', 'Kabupaten', 'Bogor,', 'Kota', 'Depok,', 'Kota', 'Bekasi,', 'Kota', 'Jayapura,', 'Kota', 'P…', 'https://t.co/EPcMqgdKEr']\n",
      "['Peningkatan', 'penanganan', 'pandemi', 'Covid-19', 'di', 'Jawa', 'Timur', 'dan', 'Sulawesi', 'Selatan', 'dapat', 'dicontoh', 'provinsi', 'lain.', 'Selain', 'i…', 'https://t.co/5WjMwJLEOt']\n",
      "['Tugas', 'besar', 'kita', 'adalah', 'menekan', 'angka', 'kasus', 'positif', 'dengan', 'terus', 'menyampaikan', 'pentingnya', 'kedisiplinan', 'terhadap', 'prot…', 'https://t.co/9R7bRBqhcs']\n",
      "['Per', '11', 'Oktober', 'kemarin,', 'rata-rata', 'kasus', 'aktif', 'Covid-19', 'di', 'Indonesia', 'saat', 'ini', 'sebesar', '19,97%,', 'kesembuhan', '76,48%,', 'dan…', 'https://t.co/BlBk7aHWJw']\n",
      "['Setiap', 'tahun,', 'ada', 'jutaan', 'penduduk', 'usia', 'kerja', 'baru.', 'UU', 'Cipta', 'Kerja', 'antara', 'lain', 'bertujuan', 'untuk', 'menyediakan', 'lapangan…', 'https://t.co/OnPB7u1vqB']\n",
      "['Di', 'tengah', 'pandemi', 'ini,', 'sektor', 'pertanian', 'kita', 'mampu', 'tumbuh', '16,24', '%', 'dan', 'jadi', 'penyumbang', 'tertinggi', 'bagi', 'pertumbuhan', 'ek…', 'https://t.co/b5K2JtHlZy']\n",
      "['Peringatan', 'ke-75', 'Hari', 'Tentara', 'Nasional', 'Indonesia', '(TNI)', 'tahun', 'ini', 'digelar', 'secara', 'sederhana.', 'Saya', 'memimpin', 'upacara…', 'https://t.co/uaA2710T5z']\n",
      "['Di', 'tengah', 'pandemi', 'ini,', 'para', 'prajurit', 'TNI', 'tetap', 'menjadi', 'tentara', 'profesional', 'dan', 'kebanggaan', 'rakyat.', 'TNI', 'membantu', 'mend…', 'https://t.co/OeLyGPUe0n']\n",
      "['Pandemi', 'menghentak', 'dunia', 'dan', 'banyak', 'kegiatan', 'terpaksa', 'ditunda', 'atau', 'dikurangi.', 'Namun,', 'satu', 'yang', 'harus', 'tetap', 'berjalan…', 'https://t.co/68XjuSC2Go']\n",
      "['Tujuh', 'bulan', 'sudah', 'kita', 'menghadapi', 'pandemi', 'ini.', 'Begitu', 'banyak', 'tantangan,', 'namun', 'kita', 'tidak', 'berpangku', 'tangan.', 'Banyak', 'y…', 'https://t.co/RlNsm48B0Y']\n",
      "['Sifira', 'Kristingrum,', 'perawat', 'di', 'RSAL', 'Dr.', 'Ramelan,', 'Surabaya,', 'masih', 'mengenakan', 'gaun', 'kerja', 'ketika', 'saya', 'menghubunginya', 'm…', 'https://t.co/Y04Arvf2Hr']\n",
      "['Pandemi', 'bukanlah', 'penghalang', 'untuk', 'memperingati', 'Hari', 'Batik', 'Nasional', 'yang', 'jatuh', 'pada', 'setiap', 'tanggal', '2', 'Oktober.', 'Warisa…', 'https://t.co/4Fi9vbNvkI']\n",
      "['Saya', 'menyerahkan', 'bantuan', 'modal', 'kerja', 'kepada', '60', 'pelaku', 'usaha', 'mikro', 'dan', 'kecil', 'dari', 'Labuan', 'Bajo,', 'sore', 'tadi,', 'dengan', 'har…', 'https://t.co/Pj9RNiPMMM']\n",
      "['Hari', 'ini', 'saya', 'ke', 'Labuan', 'Bajo', 'di', 'NTT,', 'meninjau', 'pembangunan', 'terminal', 'pelabuhan', 'multifungsi', 'untuk', 'aktivitas', 'bongkar', 'mu…', 'https://t.co/1FfvY6KOPJ']\n",
      "['Seusai', 'memimpin', 'upacara', 'Hari', 'Kesaktian', 'Pancasila', 'pagi', 'ini,', 'saya', 'bertolak', 'menuju', 'NTT', 'untuk', 'kunjungan', 'sehari.', 'Di', 'sa…', 'https://t.co/bZ7JeQKvqU']\n",
      "['Upacara', 'peringatan', 'Hari', 'Kesaktian', 'Pancasila', 'pagi', 'ini', 'digelar', 'di', 'Monumen', 'Pancasila', 'Sakti,', 'Lubang', 'Buaya,', 'Jakarta', 'Timu…', 'https://t.co/4EBMMZgCas']\n",
      "['Tantangan', 'dan', 'ujian', 'dalam', 'berbagai', 'bentuk', 'pernah', 'dihadapi', 'bangsa', 'ini,', 'dari', 'zaman', 'kemerdekaan,', 'masa', 'pembangunan,', 'era…', 'https://t.co/F20kxAqdQR']\n",
      "['Sejumlah', 'pelaku', 'usaha', 'mikro', 'dan', 'kecil', 'yang', 'terdampak', 'pandemi', 'dari', 'Jakarta', 'dan', 'Kepulauan', 'Seribu', 'menerima', 'secara', 'lang…', 'https://t.co/k3rsY7jBt7']\n",
      "['I', 'am', 'deeply', 'saddened', 'to', 'learn', 'of', 'the', 'passing', 'of', 'His', 'Majesty', 'Sheikh', 'Sabah', 'al-Ahmad', 'al-Sabah,', 'Emir', 'of', 'the', 'State', 'of', 'Kuwait']\n",
      "['Dulu,', 'dari', 'Manado', 'ke', 'Bitung,', 'ditempuh', 'dalam', '1,5', 'jam.', 'Dalam', 'waktu', 'dekat,', 'melalui', 'jalan', 'tol', '40', 'km,', 'perjalanan', 'antara…', 'https://t.co/CW9Kxv7lMW']\n",
      "['Di', 'tengah', 'upaya', 'dan', 'kerja', 'keras', 'kita', 'semua', 'menangani', 'masalah', 'kesehatan', 'di', 'masa', 'pandemi', 'Covid-19', 'ini,', 'pemerintah', 'jug…', 'https://t.co/lJProd82Uj']\n",
      "['Saya', 'bersama', '63', 'pelaku', 'usaha', 'mikro', 'dan', 'kecil', 'yang', 'menerima', 'bantuan', 'modal', 'kerja', 'secara', 'langsung,', 'sore', 'tadi,', 'di', 'Istan…', 'https://t.co/BpA8dN15AV']\n",
      "['Apabila', 'selesai', 'dalam', 'waktu', 'dekat,', 'jalan', 'tol', 'Manado-Bitung', 'sepanjang', '40', 'km', 'akan', 'menjadi', 'tol', 'terpanjang', 'di', 'Pulau', 'Sul…', 'https://t.co/kn09wALToa']\n",
      "['Tak', 'dapat', 'hadir', 'langsung', 'di', 'Sulawesi', 'Utara,', 'saya', 'meresmikan', 'jalan', 'tol', 'Manado-Bitung', 'ruas', 'Manado-Danowudu', 'dari', 'ruang…', 'https://t.co/fJoOESIvYW']\n",
      "['Menunggu', 'tersedianya', 'vaksin', 'Covid-19,', 'saya', 'telah', 'meminta', 'jajaran', 'terkait', 'agar', 'perencanaan', 'yang', 'detail', 'segera', 'dilaks…', 'https://t.co/nzwySyAPEe']\n",
      "['Punya', 'foto-foto', 'atau', 'video', 'berlatar', 'cerita', 'seputar', 'pandemi,', 'menginspirasi,', 'dan', 'mengajak', 'warga', 'untuk', 'hidup', 'sehat?', 'S…', 'https://t.co/mzqj05bDsc']\n",
      "['Kristianto', 'Budi', 'Wibowo,', 'seorang', 'dokter', 'di', 'Rembang,', 'Jawa', 'Tengah,', 'memotret', 'orang-orang', 'di', 'pasar', 'dan', 'tetap', 'menerapkan…', 'https://t.co/yIhKQ3otF1']\n",
      "['Bapak', 'dr.', 'Faisal', 'Rizal', 'Matondang,', 'Sp.P', 'yang', 'bertugas', 'di', 'RSPI', 'Prof.', 'Dr.', 'Sulianti', 'Saroso,', 'sempat', 'terpapar', 'Covid-19', 'da…', 'https://t.co/O5YXf5qklm']\n",
      "['Penglaris', 'dagangan', 'yang', 'jitu', 'itu', 'bukan', 'jimat,', 'bukan', 'pula', 'jampi-jampi.', 'Tapi', 'apa?', 'https://t.co/s1iQp84emN']\n",
      "['Saya', 'membuka', 'Muktamar', 'IV', 'Persaudaraan', 'Muslimin', 'Indonesia', '2020', 'melalui', 'konferensi', 'video', 'dari', 'Istana', 'Bogor,', 'siang', 'ini…', 'https://t.co/Fb7Ra9xs0Z']\n",
      "['Kerja', 'di', 'rumah', 'atau', 'harus', 'ke', 'jalan,', 'semua', 'ada', 'enak', 'dan', 'tidak', 'enaknya,', 'ada', 'lebih', 'dan', 'ada', 'kurangnya.', 'Rezeki', 'memang…', 'https://t.co/gwG3bvKTlO']\n",
      "['Jalan', 'tol', 'trans-Sumatra', 'ruas', 'Pekanbaru-Dumai', 'yang', 'panjangnya', '131,5', 'km', 'saya', 'resmikan', 'secara', 'virtual', 'siang', 'tadi.', 'Ja…', 'https://t.co/7Njcx8Yrs6']\n",
      "['Saya', 'telah', 'memerintahkan', 'agar', 'berbagai', 'program', 'pemerintah', 'untuk', 'meningkatkan', 'ekonomi', 'desa', 'di', 'masa', 'pandemi', 'ini', 'dijal…', 'https://t.co/6hmTIOoV40']\n"
     ]
    }
   ],
   "source": [
    "i = 0\n",
    "count = 0\n",
    "for i in range(100):\n",
    "    print(hasil[i].text.split())\n",
    "    for kata in hasil[i].text.split():\n",
    "        if kata.lower() == 'covid-19':\n",
    "            count+=1"
   ]
  },
  {
   "cell_type": "code",
   "execution_count": 14,
   "metadata": {
    "scrolled": true
   },
   "outputs": [
    {
     "name": "stdout",
     "output_type": "stream",
     "text": [
      "banyaknya tweet pak jokowi yang diambil : 100\n",
      "banyaknya pak jokowi membicarakan Covid dalam tweetnya : 8 \n"
     ]
    }
   ],
   "source": [
    "print(f'banyaknya tweet pak jokowi yang diambil : {jumlahtweet}')\n",
    "print(f'banyaknya pak jokowi membicarakan Covid dalam tweetnya : {count} ')"
   ]
  },
  {
   "cell_type": "code",
   "execution_count": 21,
   "metadata": {
    "scrolled": true
   },
   "outputs": [
    {
     "ename": "NameError",
     "evalue": "name 'search' is not defined",
     "output_type": "error",
     "traceback": [
      "\u001b[1;31m---------------------------------------------------------------------------\u001b[0m",
      "\u001b[1;31mNameError\u001b[0m                                 Traceback (most recent call last)",
      "\u001b[1;32m<ipython-input-21-dd739b2e4ec7>\u001b[0m in \u001b[0;36m<module>\u001b[1;34m\u001b[0m\n\u001b[0;32m      3\u001b[0m \u001b[1;33m\u001b[0m\u001b[0m\n\u001b[0;32m      4\u001b[0m \u001b[1;31m#hasil = api.search(nama, count=jumlahtweet, lang = 'id',filter=retweets)\u001b[0m\u001b[1;33m\u001b[0m\u001b[1;33m\u001b[0m\u001b[1;33m\u001b[0m\u001b[0m\n\u001b[1;32m----> 5\u001b[1;33m \u001b[0mhasil\u001b[0m \u001b[1;33m=\u001b[0m \u001b[0mtweepy\u001b[0m\u001b[1;33m.\u001b[0m\u001b[0mCursor\u001b[0m\u001b[1;33m(\u001b[0m\u001b[0mapi\u001b[0m\u001b[1;33m.\u001b[0m\u001b[0msearch\u001b[0m\u001b[1;33m,\u001b[0m\u001b[0mq\u001b[0m\u001b[1;33m=\u001b[0m\u001b[0msearch\u001b[0m\u001b[1;33m+\u001b[0m\u001b[1;34m\" -filter:retweets\"\u001b[0m\u001b[1;33m,\u001b[0m\u001b[0mcount\u001b[0m\u001b[1;33m=\u001b[0m\u001b[1;36m1000\u001b[0m\u001b[1;33m,\u001b[0m\u001b[0mlang\u001b[0m\u001b[1;33m=\u001b[0m\u001b[1;34m\"en\"\u001b[0m\u001b[1;33m)\u001b[0m\u001b[1;33m\u001b[0m\u001b[1;33m\u001b[0m\u001b[0m\n\u001b[0m\u001b[0;32m      6\u001b[0m \u001b[1;31m#for search in hashtags:\u001b[0m\u001b[1;33m\u001b[0m\u001b[1;33m\u001b[0m\u001b[1;33m\u001b[0m\u001b[0m\n\u001b[0;32m      7\u001b[0m \u001b[1;31m#    for tweet in  tweepy.Cursor(api.search,q=search+\" -filter:retweets\",count=1000,lang=\"en\").items():\u001b[0m\u001b[1;33m\u001b[0m\u001b[1;33m\u001b[0m\u001b[1;33m\u001b[0m\u001b[0m\n",
      "\u001b[1;31mNameError\u001b[0m: name 'search' is not defined"
     ]
    }
   ],
   "source": [
    "nama = \"covid-19\"\n",
    "jumlahtweet = 100\n",
    "\n",
    "hasil = api.search(nama, count=jumlahtweet, lang = 'id',filter=retweets)\n",
    "\n",
    "for tweet in hasil:\n",
    "    print (tweet.text)"
   ]
  },
  {
   "cell_type": "code",
   "execution_count": 41,
   "metadata": {},
   "outputs": [
    {
     "name": "stdout",
     "output_type": "stream",
     "text": [
      "'1735562568'\n"
     ]
    }
   ],
   "source": [
    "for tweet in  tweepy.Cursor(api.search,q='Covid-19'+\" -filter:retweets\",count=1,lang=\"id\").items(): \n",
    "    text=repr(tweet.user.id_str)  \n",
    "print(text)"
   ]
  },
  {
   "cell_type": "code",
   "execution_count": null,
   "metadata": {},
   "outputs": [],
   "source": []
  }
 ],
 "metadata": {
  "kernelspec": {
   "display_name": "Python 3",
   "language": "python",
   "name": "python3"
  },
  "language_info": {
   "codemirror_mode": {
    "name": "ipython",
    "version": 3
   },
   "file_extension": ".py",
   "mimetype": "text/x-python",
   "name": "python",
   "nbconvert_exporter": "python",
   "pygments_lexer": "ipython3",
   "version": "3.8.3"
  }
 },
 "nbformat": 4,
 "nbformat_minor": 4
}
